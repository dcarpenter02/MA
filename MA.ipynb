{
 "cells": [
  {
   "cell_type": "code",
   "execution_count": 11,
   "metadata": {},
   "outputs": [
    {
     "data": {
      "application/vnd.jupyter.widget-view+json": {
       "model_id": "3d7319e60aaa4eed92969c72b46eb777",
       "version_major": 2,
       "version_minor": 0
      },
      "text/plain": [
       "Map(center=[35.66185659256246, -87.3588671370157], controls=(ZoomControl(options=['position', 'zoom_in_text', …"
      ]
     },
     "execution_count": 11,
     "metadata": {},
     "output_type": "execute_result"
    }
   ],
   "source": [
    "from ipyleaflet import *\n",
    "import ipywidgets as ipw\n",
    "import json\n",
    "import pandas as pd\n",
    "\n",
    "#load data \n",
    "zip = pd.read_csv('C:/Users/daponder/OneDrive/MA/cust_density.txt')\n",
    "bc = pd.read_csv('C:/Users/daponder/OneDrive/MA/branch_comp_list.txt')\n",
    "\n",
    "branch = bc.loc[(bc['comp_type'] == 'TMX Branch')]\n",
    "comp = bc.loc[(bc['comp_type'] == 'Competition')]\n",
    "\n",
    "center = zip['servlat'].mean(), zip['servlong'].mean()\n",
    "\n",
    "marker = (zip[['servlat','servlong']])\n",
    "\n",
    "m = Map(center= center, zoom_start= 10, basemap=basemaps.OpenStreetMap.Mapnik)\n",
    "\n",
    "zoom_slider = ipw.IntSlider(description='Zoom level:', min=4, max=15, value=5)\n",
    "ipw.jslink((zoom_slider, 'value'), (m, 'zoom'))\n",
    "widget_control1 = WidgetControl(widget=zoom_slider, position='topright')\n",
    "m.add_control(widget_control1)\n",
    "\n",
    "control = LayersControl(position='topright')\n",
    "m.add_control(control)\n",
    "\n",
    "m"
   ]
  },
  {
   "cell_type": "code",
   "execution_count": null,
   "metadata": {},
   "outputs": [],
   "source": []
  }
 ],
 "metadata": {
  "kernelspec": {
   "display_name": "Python 3",
   "language": "python",
   "name": "python3"
  },
  "language_info": {
   "codemirror_mode": {
    "name": "ipython",
    "version": 3
   },
   "file_extension": ".py",
   "mimetype": "text/x-python",
   "name": "python",
   "nbconvert_exporter": "python",
   "pygments_lexer": "ipython3",
   "version": "3.8.3"
  }
 },
 "nbformat": 4,
 "nbformat_minor": 4
}
